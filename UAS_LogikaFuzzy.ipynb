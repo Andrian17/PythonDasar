{
  "nbformat": 4,
  "nbformat_minor": 0,
  "metadata": {
    "colab": {
      "provenance": [],
      "authorship_tag": "ABX9TyPrLMsWNU1JwS8z9gupdh2O",
      "include_colab_link": true
    },
    "kernelspec": {
      "name": "python3",
      "display_name": "Python 3"
    },
    "language_info": {
      "name": "python"
    }
  },
  "cells": [
    {
      "cell_type": "markdown",
      "metadata": {
        "id": "view-in-github",
        "colab_type": "text"
      },
      "source": [
        "<a href=\"https://colab.research.google.com/github/Andrian17/PythonDasar/blob/main/UAS_LogikaFuzzy.ipynb\" target=\"_parent\"><img src=\"https://colab.research.google.com/assets/colab-badge.svg\" alt=\"Open In Colab\"/></a>"
      ]
    },
    {
      "cell_type": "markdown",
      "source": [
        "**UAS Logika Fuzzy** \n",
        "Nama :\n",
        "\n",
        "\n",
        "1. Andrian\n",
        "2. Alfi\n",
        "3. Canggih\n",
        "\n",
        "\n",
        "\n",
        "\n",
        "\n"
      ],
      "metadata": {
        "id": "panSbSUFsEgK"
      }
    },
    {
      "cell_type": "code",
      "source": [
        "# lib\n",
        "import math"
      ],
      "metadata": {
        "id": "eB6aXKoxxI-E"
      },
      "execution_count": 125,
      "outputs": []
    },
    {
      "cell_type": "code",
      "source": [
        "# Permintaan\n",
        "maxPermintaan = 840\n",
        "minPermintaan = 180\n",
        "\n",
        "# Persediaan\n",
        "maxPersediaan = 140\n",
        "minPersediaan = 60\n",
        "\n",
        "# Produksi\n",
        "maxProduksi = 738\n",
        "minProduksi = 158\n"
      ],
      "metadata": {
        "id": "EJ5ipQP8shoL"
      },
      "execution_count": 126,
      "outputs": []
    },
    {
      "cell_type": "markdown",
      "source": [
        "Diketahui\n",
        "\n",
        "Pada tanggal 03 Januari 2023 Konveksi Al -Muslimah mendapatkan pesanan eragam sekolah ssebanyak 480 pesanan dan memiliki 86 persediaan di etalase, berapakah jumlah seragam yang harus di produksi jika diketahui \n",
        "Permintaan : 480\n",
        "Persediaan : 86\n",
        "Jumlah produksi = …….?\n",
        "\n",
        "\n",
        "**Penyelesaian**"
      ],
      "metadata": {
        "id": "SQp1_ygWtE5Z"
      }
    },
    {
      "cell_type": "code",
      "source": [
        "soalPermintaan = 480\n",
        "soalPersediaan = 86"
      ],
      "metadata": {
        "id": "kdVj4sEZtdOE"
      },
      "execution_count": 127,
      "outputs": []
    },
    {
      "cell_type": "code",
      "source": [
        "# Mendefinisikan Variabel\n",
        "\n",
        "# V1 Permintaan ==> Naik dan Turun\n",
        "def permintaanTurun () : \n",
        "  X = soalPermintaan\n",
        "  pmtTurun = (maxPermintaan - X) / (maxPermintaan - minPermintaan)\n",
        "  kondisi = 0\n",
        "  if X <= minPermintaan :\n",
        "    kondisi : 1\n",
        "  elif X >= maxPermintaan :\n",
        "    kondisi : 0\n",
        "  return {\n",
        "      'hasil' : round(pmtTurun, 4),\n",
        "      'kondisi' : kondisi\n",
        "  }\n",
        "print(permintaanTurun())\n",
        "\n",
        "def permintaanNaik () : \n",
        "  X = soalPermintaan\n",
        "  pmtNaik = (X - minPermintaan) / (maxPermintaan - minPermintaan)\n",
        "  kondisi = 0\n",
        "  if X <= minPermintaan :\n",
        "    kondisi = 0\n",
        "  elif X >= maxPermintaan :\n",
        "    kondisi : 1\n",
        "  return {\n",
        "      'hasil' : round(pmtNaik, 4),\n",
        "      'kondisi' : kondisi\n",
        "  }\n",
        "print(permintaanNaik())"
      ],
      "metadata": {
        "colab": {
          "base_uri": "https://localhost:8080/"
        },
        "id": "b9NzBmPLt6Yz",
        "outputId": "cfd46c11-0dc1-4395-b72a-3c5eb9e8649d"
      },
      "execution_count": 128,
      "outputs": [
        {
          "output_type": "stream",
          "name": "stdout",
          "text": [
            "{'hasil': 0.5455, 'kondisi': 0}\n",
            "{'hasil': 0.4545, 'kondisi': 0}\n"
          ]
        }
      ]
    },
    {
      "cell_type": "code",
      "source": [
        "# V2 Persediaan ==> Banyak dan Sedikit\n",
        "def persediaanSedikit () :\n",
        "  Y = soalPersediaan\n",
        "  psdSedikit = (maxPersediaan - Y) / (maxPersediaan - minPersediaan)\n",
        "  kondisi = 0\n",
        "  if Y <= minPersediaan :\n",
        "    kondisi = 1\n",
        "  elif Y >= 250 :\n",
        "    kondisi = 0\n",
        "  return {\n",
        "      'hasil' : round(psdSedikit, 4),\n",
        "      'kondisi' : kondisi\n",
        "  }\n",
        "print(persediaanSedikit())\n",
        "\n",
        "def persediaanBanyak () : \n",
        "  Y = soalPersediaan\n",
        "  psdBanyak = (Y - minPersediaan) / (maxPersediaan - minPersediaan)\n",
        "  kondisi = 0\n",
        "  if Y <= minPersediaan :\n",
        "    kondisi = 0\n",
        "  elif Y >= 250 :\n",
        "    kondisi = 1\n",
        "  return {\n",
        "      'hasil' : round(psdBanyak, 4),\n",
        "      'kondisi' : kondisi\n",
        "  }\n",
        "print(persediaanBanyak())"
      ],
      "metadata": {
        "colab": {
          "base_uri": "https://localhost:8080/"
        },
        "id": "rAmjVv1a6FCw",
        "outputId": "456252e6-9380-4c5b-e34f-3fcac6be96f8"
      },
      "execution_count": 129,
      "outputs": [
        {
          "output_type": "stream",
          "name": "stdout",
          "text": [
            "{'hasil': 0.675, 'kondisi': 0}\n",
            "{'hasil': 0.325, 'kondisi': 0}\n"
          ]
        }
      ]
    },
    {
      "cell_type": "markdown",
      "source": [
        "Fungsi keanggotaan dari variabel produksi (BERTAMBAH, BERKURANG)\n",
        "\n",
        "Z= ……..?????\n",
        "\n",
        "![image.png](data:image/png;base64,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)\n",
        "\n",
        "terdiri dari 2 himpunan fuzzy, yaitu BERKURANG dan BERTAMBAH. Fungsi keanggotaan himpunan fuzzy BERKURANG dan BERTAMBAH :\n",
        "\n",
        "![image.png](data:image/png;base64,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)\n",
        "\n",
        "Z= adalah berapa jumlah yang di produksi perusahan ?\n",
        "\n"
      ],
      "metadata": {
        "id": "Qsp0nAxgOvTA"
      }
    },
    {
      "cell_type": "markdown",
      "source": [
        "# **Inferensi**\n",
        "\n",
        "[R1] JIKA Permintaan TURUN, dan Persediaan BANYAK, MAKA\n",
        "Produksi Barang BERKURANG.\n",
        "\n",
        "[R2] JIKA Permintaan TURUN, dan Persediaan SEDIKIT, MAKA\n",
        "Produksi Barang BERKURANG.\n",
        "\n",
        "[R3] JIKA Permintaan NAIK, dan Persediaan BANYAK, MAKA\n",
        "Produksi Barang BERTAMBAH.\n",
        "\n",
        "[R4] JIKA Permintaan NAIK, dan Persediaan SEDIKIT, MAKA\n",
        "Produksi Barang BERTAMBAH."
      ],
      "metadata": {
        "id": "1ryaqNzP9wZ7"
      }
    },
    {
      "cell_type": "code",
      "source": [
        "# Inisialisasi varabel\n",
        "alfa1 = 0\n",
        "alfa2 = 0\n",
        "alfa3 = 0\n",
        "alfa4 = 0"
      ],
      "metadata": {
        "id": "6ZejesmtHRPD"
      },
      "execution_count": 130,
      "outputs": []
    },
    {
      "cell_type": "code",
      "source": [
        "# R1\n",
        "def rule1 () :\n",
        "  res = min(permintaanTurun()['hasil'], persediaanBanyak()['hasil'])\n",
        "  global alfa1\n",
        "  alfa1 = res\n",
        "\n",
        "  Zmax = maxProduksi\n",
        "  Zmin = minProduksi\n",
        "  \n",
        "  Z1 = Zmax - (alfa1 * (Zmax - Zmin))\n",
        "  return round(Z1, 4)\n",
        "print(rule1())"
      ],
      "metadata": {
        "colab": {
          "base_uri": "https://localhost:8080/"
        },
        "id": "gudXzE6j-KTK",
        "outputId": "d7f6c212-55d7-4c11-9eaf-47cd02721729"
      },
      "execution_count": 131,
      "outputs": [
        {
          "output_type": "stream",
          "name": "stdout",
          "text": [
            "549.5\n"
          ]
        }
      ]
    },
    {
      "cell_type": "code",
      "source": [
        "# R2 \n",
        "def rule2 () : \n",
        "  res = min(permintaanTurun()['hasil'], persediaanSedikit()['hasil'])\n",
        "  global alfa2\n",
        "  alfa2 = res\n",
        "\n",
        "  Zmax = maxProduksi\n",
        "  Zmin = minProduksi\n",
        "\n",
        "  Z2 = Zmax - (alfa2 * (Zmax - Zmin))\n",
        "  return round(Z2, 4)\n",
        "print(rule2())"
      ],
      "metadata": {
        "colab": {
          "base_uri": "https://localhost:8080/"
        },
        "id": "qLy6EJzyCmUm",
        "outputId": "66555dc1-aa90-4cb1-8442-858e30492e08"
      },
      "execution_count": 132,
      "outputs": [
        {
          "output_type": "stream",
          "name": "stdout",
          "text": [
            "421.61\n"
          ]
        }
      ]
    },
    {
      "cell_type": "code",
      "source": [
        "# R3 \n",
        "def rule3 () : \n",
        "  res = min(permintaanNaik()['hasil'], persediaanBanyak()['hasil'])\n",
        "  global alfa3\n",
        "  alfa3 = res\n",
        "\n",
        "  Zmax = maxProduksi\n",
        "  Zmin = minProduksi\n",
        "\n",
        "  Z3 = alfa3 * (Zmax - Zmin) + Zmin\n",
        "  return round(Z3, 4)\n",
        "print(rule3())"
      ],
      "metadata": {
        "colab": {
          "base_uri": "https://localhost:8080/"
        },
        "id": "do8Pi2x4ER2z",
        "outputId": "ca07d365-750a-476f-9063-5d11c8c00148"
      },
      "execution_count": 133,
      "outputs": [
        {
          "output_type": "stream",
          "name": "stdout",
          "text": [
            "346.5\n"
          ]
        }
      ]
    },
    {
      "cell_type": "code",
      "source": [
        "# R4 \n",
        "def rule4 () : \n",
        "  res = min(permintaanNaik()['hasil'], persediaanSedikit()['hasil'])\n",
        "  global alfa4\n",
        "  alfa4 = res\n",
        "\n",
        "  Zmax = maxProduksi\n",
        "  Zmin = minProduksi\n",
        "\n",
        "  Z4 = alfa4 * (Zmax - Zmin) + Zmin\n",
        "  return round(Z4, 4)\n",
        "print(rule4())"
      ],
      "metadata": {
        "colab": {
          "base_uri": "https://localhost:8080/"
        },
        "id": "bnjLmXiTFjJv",
        "outputId": "4359ee1b-a14a-42f1-e3e7-ae5d984bd131"
      },
      "execution_count": 134,
      "outputs": [
        {
          "output_type": "stream",
          "name": "stdout",
          "text": [
            "421.61\n"
          ]
        }
      ]
    },
    {
      "cell_type": "markdown",
      "source": [
        "**Defuzzifakasi**\n",
        "\n",
        "Pada metode tsukamoto, untuk menentukan output crisp, digunakan defuzifikasi\n",
        "rata-rata terpusat, yaitu :"
      ],
      "metadata": {
        "id": "4w5BZmCKGs1B"
      }
    },
    {
      "cell_type": "code",
      "source": [
        "# Defuzzfikasi\n",
        "Z1 = rule1()\n",
        "Z2 = rule2()\n",
        "Z3 = rule3()\n",
        "Z4 = rule4()\n",
        "\n",
        "def defuzzfikasi () :\n",
        "\n",
        "  alfaGabungan = round(alfa1 + alfa2 + alfa3 + alfa4, 4)\n",
        "  ZGabungan = round(alfa1 * Z1 + alfa2 * Z2 + alfa3 * Z3 + alfa4 * Z4, 4)\n",
        "\n",
        "  Zhasil = ZGabungan / alfaGabungan\n",
        "  return round(Zhasil, 4)\n",
        "\n",
        "print(defuzzfikasi())\n"
      ],
      "metadata": {
        "colab": {
          "base_uri": "https://localhost:8080/"
        },
        "id": "8Yb1BpjqGcDx",
        "outputId": "5eaee019-6d15-4c08-d0f6-9dde7b00ed53"
      },
      "execution_count": 135,
      "outputs": [
        {
          "output_type": "stream",
          "name": "stdout",
          "text": [
            "432.0061\n"
          ]
        }
      ]
    },
    {
      "cell_type": "code",
      "source": [
        "hasil = defuzzfikasi()\n",
        "print(f\"Jadi Jumlah Barang yang di produksi menurut Metode Tsukamoto adalah {hasil} kemasan.\")"
      ],
      "metadata": {
        "colab": {
          "base_uri": "https://localhost:8080/"
        },
        "id": "fjFVnW7xL8f1",
        "outputId": "4107a00e-8a87-4e36-a861-cb777de1288b"
      },
      "execution_count": 136,
      "outputs": [
        {
          "output_type": "stream",
          "name": "stdout",
          "text": [
            "Jadi Jumlah Barang yang di produksi menurut Metode Tsukamoto adalah 432.0061 kemasan.\n"
          ]
        }
      ]
    }
  ]
}